{
  "nbformat": 4,
  "nbformat_minor": 0,
  "metadata": {
    "colab": {
      "provenance": [],
      "include_colab_link": true
    },
    "kernelspec": {
      "name": "python3",
      "display_name": "Python 3"
    }
  },
  "cells": [
    {
      "cell_type": "markdown",
      "metadata": {
        "id": "view-in-github",
        "colab_type": "text"
      },
      "source": [
        "<a href=\"https://colab.research.google.com/github/eemv57/copilot-codespaces-vscode/blob/main/Tarea01_(2).ipynb\" target=\"_parent\"><img src=\"https://colab.research.google.com/assets/colab-badge.svg\" alt=\"Open In Colab\"/></a>"
      ]
    },
    {
      "cell_type": "markdown",
      "metadata": {
        "id": "M70WiqqMNP5A"
      },
      "source": [
        "<div align=\"left\">\n",
        "<p><img alt=\"IUDigital\" height=\"140px\" src=\"https://www.iudigital.edu.co/Style%20Library/images/logo-escudo.png\" align=\"left\" hspace=\"10px\" vspace=\"0px\"></p></div>\n",
        "<div> </div>\n",
        "<div align=\"right\">\n",
        "<p><img alt=\"Posgrado\" height=\"140px\" src=\"https://www.iudigital.edu.co/OfertaEducativa/PublishingImages/Paginas/Tecnologia-en-Desarrollo-de-Software/19072021_Tecnologia_Dllo_Software_1200px.jpg\" align=\"right\" hspace=\"10px\" vspace=\"10px\"></p></div>\n",
        "<br></br>\n",
        "<br></br>\n",
        "<br></br>\n",
        "<br></br>\n",
        "<p>\n",
        "<h1> <b> Pensamiento Algorítmico </b> </h1>\n",
        "<hr size=10 noshade color=\"red\">\n",
        "</p>\n",
        "<p>\n",
        "<img alt=\"CC\" height=\"70px\" src=\"https://creativecommons.org/images/deed/cc_blue_x2.png\" align=\"left\" hspace=\"0px\" vspace=\"0px\">\n",
        "<img alt=\"Attribution\" height=\"70px\" src=\"https://creativecommons.org/images/deed/attribution_icon_blue_x2.png\" align=\"left\" hspace=\"0px\" vspace=\"0px\">\n",
        "<img alt=\"NC\" height=\"70px\" src=\"https://creativecommons.org/images/deed/nc_blue_x2.png\" align=\"left\" hspace=\"0px\" vspace=\"0px\">\n",
        "<img alt=\"SA\" height=\"70px\" src=\"https://creativecommons.org/images/deed/sa_blue_x2.png\" align=\"left\" hspace=\"0px\" vspace=\"0px\">\n",
        "</p>\n",
        "\n",
        "<br>"
      ]
    },
    {
      "cell_type": "markdown",
      "metadata": {
        "id": "Pm5smIuSNTUw"
      },
      "source": [
        "# **Tarea 1**\n",
        "\n",
        "> ## Variables, Operadores y Python Collections"
      ]
    },
    {
      "cell_type": "markdown",
      "metadata": {
        "id": "GEvfNKhw5hwK"
      },
      "source": [
        "1.   Importar al menos 10 librerías\n"
      ]
    },
    {
      "cell_type": "code",
      "metadata": {
        "id": "zI0Dv0le5jdC"
      },
      "source": [
        "import tkinter as tk\n",
        "import pandas as pd\n",
        "import matplotlib.pyplot as plt\n",
        "import numpy as np\n",
        "import requests\n",
        "import tensorflow as tf\n",
        "from math import sqrt\n",
        "import math\n",
        "import nltk\n",
        "from bs4 import BeautifulSoup"
      ],
      "execution_count": null,
      "outputs": []
    },
    {
      "cell_type": "code",
      "source": [
        "pip install requests"
      ],
      "metadata": {
        "id": "JON-Z7ciKXfF",
        "colab": {
          "base_uri": "https://localhost:8080/"
        },
        "outputId": "af735521-217b-4e7b-b211-713ea6b38392"
      },
      "execution_count": null,
      "outputs": [
        {
          "output_type": "stream",
          "name": "stdout",
          "text": [
            "Requirement already satisfied: requests in /usr/local/lib/python3.11/dist-packages (2.32.3)\n",
            "Requirement already satisfied: charset-normalizer<4,>=2 in /usr/local/lib/python3.11/dist-packages (from requests) (3.4.2)\n",
            "Requirement already satisfied: idna<4,>=2.5 in /usr/local/lib/python3.11/dist-packages (from requests) (3.10)\n",
            "Requirement already satisfied: urllib3<3,>=1.21.1 in /usr/local/lib/python3.11/dist-packages (from requests) (2.4.0)\n",
            "Requirement already satisfied: certifi>=2017.4.17 in /usr/local/lib/python3.11/dist-packages (from requests) (2025.4.26)\n"
          ]
        }
      ]
    },
    {
      "cell_type": "markdown",
      "metadata": {
        "id": "Zkbvzu0z5sRG"
      },
      "source": [
        "3.   Usar la función `help` para detallar las características de una función\n"
      ]
    },
    {
      "cell_type": "code",
      "metadata": {
        "id": "AGLuiLWG5w6A",
        "colab": {
          "base_uri": "https://localhost:8080/"
        },
        "outputId": "56dd609e-5bb9-423a-dacd-aa467ec2b808"
      },
      "source": [
        "help(len)  # Documentación de la función len()"
      ],
      "execution_count": null,
      "outputs": [
        {
          "output_type": "stream",
          "name": "stdout",
          "text": [
            "Help on built-in function len in module builtins:\n",
            "\n",
            "len(obj, /)\n",
            "    Return the number of items in a container.\n",
            "\n"
          ]
        }
      ]
    },
    {
      "cell_type": "markdown",
      "metadata": {
        "id": "ToRubRLm51yS"
      },
      "source": [
        "4.   Usar la función `print()` con una variable tipo texto\n",
        "\n",
        "\n"
      ]
    },
    {
      "cell_type": "code",
      "metadata": {
        "id": "fV1cehuk6OTY",
        "colab": {
          "base_uri": "https://localhost:8080/"
        },
        "outputId": "888f64f1-c676-4ac1-e7c6-9e4c08ceb99f"
      },
      "source": [
        "print (\"La IU Digital de Antioquia, es la mejor universidad del mundo\")"
      ],
      "execution_count": null,
      "outputs": [
        {
          "output_type": "stream",
          "name": "stdout",
          "text": [
            "La IU Digital de Antioquia, es la mejor universidad del mundo\n"
          ]
        }
      ]
    },
    {
      "cell_type": "markdown",
      "metadata": {
        "id": "IhOvTFgY58OU"
      },
      "source": [
        "5.   Usar la función `print()` con al menos una variable de cada tipo númerico.\n"
      ]
    },
    {
      "cell_type": "code",
      "metadata": {
        "id": "32u417Dh6PCH",
        "colab": {
          "base_uri": "https://localhost:8080/"
        },
        "outputId": "e7bf224c-df46-4d59-dc50-3f26a190c934"
      },
      "source": [
        "\n",
        "entero = 10\n",
        "flotante = 3.1416\n",
        "complejo = 2 + 3j\n",
        "\n",
        "\n",
        "print(\"Variable entera:\", entero, \"| Tipo:\", type(entero))\n",
        "print(\"Variable flotante:\", flotante, \"| Tipo:\", type(flotante))\n",
        "print(\"Variable compleja:\", complejo, \"| Tipo:\", type(complejo))\n",
        "\n",
        "\n",
        "suma = entero + flotante\n",
        "resta = flotante - complejo.real\n",
        "producto = entero * complejo\n",
        "\n",
        "print(\"\\nResultados de operaciones:\")\n",
        "print(\"Suma (entero + flotante):\", suma)\n",
        "print(\"Resta (flotante - parte real del complejo):\", resta)\n",
        "print(\"Producto (entero * complejo):\", producto)"
      ],
      "execution_count": null,
      "outputs": [
        {
          "output_type": "stream",
          "name": "stdout",
          "text": [
            "Variable entera: 10 | Tipo: <class 'int'>\n",
            "Variable flotante: 3.1416 | Tipo: <class 'float'>\n",
            "Variable compleja: (2+3j) | Tipo: <class 'complex'>\n",
            "\n",
            "Resultados de operaciones:\n",
            "Suma (entero + flotante): 13.1416\n",
            "Resta (flotante - parte real del complejo): 1.1416\n",
            "Producto (entero * complejo): (20+30j)\n"
          ]
        }
      ]
    },
    {
      "cell_type": "markdown",
      "metadata": {
        "id": "vqHZ25iH6D2H"
      },
      "source": [
        "6.   Conversiones\n",
        "\n",
        "*   Realiza conversiones explicitas sobre 5 variables de tipo flotante a tipo entero.\n",
        "*   Realiza conversiones implícitas sobre 5 variables de tipo entero a tipo flotante.\n"
      ]
    },
    {
      "cell_type": "code",
      "metadata": {
        "id": "AD9GqgRn6R_5",
        "colab": {
          "base_uri": "https://localhost:8080/"
        },
        "outputId": "9c62b1eb-86e9-473c-d08c-1fe1ec554878"
      },
      "source": [
        "\n",
        "numero1 = 10.7\n",
        "numero2 = -5.9\n",
        "numero3 = 3.1416\n",
        "numero4 = 99.999\n",
        "numero5 = 0.5\n",
        "\n",
        "entero1 = int(numero1)  # 10 (elimina .7)\n",
        "entero2 = int(numero2)  # -5 (elimina .9)\n",
        "entero3 = int(numero3)  # 3 (elimina .1416)\n",
        "entero4 = int(numero4)  # 99 (elimina .999)\n",
        "entero5 = int(numero5)  # 0 (elimina .5)\n",
        "\n",
        "print(\"--- Conversión Explícita (float → int) ---\")\n",
        "print(f\"Original: {numero1} (tipo: {type(numero1)}) → Convertido: {entero1} (tipo: {type(entero1)})\")\n",
        "print(f\"Original: {numero2} (tipo: {type(numero2)}) → Convertido: {entero2} (tipo: {type(entero2)})\")\n",
        "print(f\"Original: {numero3} (tipo: {type(numero3)}) → Convertido: {entero3} (tipo: {type(entero3)})\")\n",
        "print(f\"Original: {numero4} (tipo: {type(numero4)}) → Convertido: {entero4} (tipo: {type(entero4)})\")\n",
        "print(f\"Original: {numero5} (tipo: {type(numero5)}) → Convertido: {entero5} (tipo: {type(entero5)})\")"
      ],
      "execution_count": null,
      "outputs": [
        {
          "output_type": "stream",
          "name": "stdout",
          "text": [
            "--- Conversión Explícita (float → int) ---\n",
            "Original: 10.7 (tipo: <class 'float'>) → Convertido: 10 (tipo: <class 'int'>)\n",
            "Original: -5.9 (tipo: <class 'float'>) → Convertido: -5 (tipo: <class 'int'>)\n",
            "Original: 3.1416 (tipo: <class 'float'>) → Convertido: 3 (tipo: <class 'int'>)\n",
            "Original: 99.999 (tipo: <class 'float'>) → Convertido: 99 (tipo: <class 'int'>)\n",
            "Original: 0.5 (tipo: <class 'float'>) → Convertido: 0 (tipo: <class 'int'>)\n"
          ]
        }
      ]
    },
    {
      "cell_type": "code",
      "source": [
        "\n",
        "entero1 = 10\n",
        "entero2 = -7\n",
        "entero3 = 42\n",
        "entero4 = 0\n",
        "entero5 = 100\n",
        "\n",
        "flotante1 = entero1 / 2\n",
        "flotante2 = entero2 * 1.0\n",
        "flotante3 = entero3 ** 0.5\n",
        "flotante4 = entero4 + 0.001\n",
        "flotante5 = entero5 / entero1\n",
        "\n",
        "print(\"--- Conversión Implícita (int → float) ---\")\n",
        "print(f\"Original: {entero1} (tipo: {type(entero1)}) → Convertido: {flotante1} (tipo: {type(flotante1)})\")\n",
        "print(f\"Original: {entero2} (tipo: {type(entero2)}) → Convertido: {flotante2} (tipo: {type(flotante2)})\")\n",
        "print(f\"Original: {entero3} (tipo: {type(entero3)}) → Convertido: {flotante3} (tipo: {type(flotante3)})\")\n",
        "print(f\"Original: {entero4} (tipo: {type(entero4)}) → Convertido: {flotante4} (tipo: {type(flotante4)})\")\n",
        "print(f\"Original: {entero5} (tipo: {type(entero5)}) → Convertido: {flotante5} (tipo: {type(flotante5)})\")"
      ],
      "metadata": {
        "colab": {
          "base_uri": "https://localhost:8080/"
        },
        "id": "3Vm2BCd3ROkU",
        "outputId": "643527c7-6adb-4112-a71b-177836e70511"
      },
      "execution_count": null,
      "outputs": [
        {
          "output_type": "stream",
          "name": "stdout",
          "text": [
            "--- Conversión Implícita (int → float) ---\n",
            "Original: 10 (tipo: <class 'int'>) → Convertido: 5.0 (tipo: <class 'float'>)\n",
            "Original: -7 (tipo: <class 'int'>) → Convertido: -7.0 (tipo: <class 'float'>)\n",
            "Original: 42 (tipo: <class 'int'>) → Convertido: 6.48074069840786 (tipo: <class 'float'>)\n",
            "Original: 0 (tipo: <class 'int'>) → Convertido: 0.001 (tipo: <class 'float'>)\n",
            "Original: 100 (tipo: <class 'int'>) → Convertido: 10.0 (tipo: <class 'float'>)\n"
          ]
        }
      ]
    },
    {
      "cell_type": "markdown",
      "metadata": {
        "id": "bCvF0cH56Yr0"
      },
      "source": [
        "7.   Crear una variable con el siguiente texto <br>\n",
        "`Las cadenas en Python están rodeadas por comillas simples o comillas dobles` <br>Imprimir los valores `[31],[43],[15],[5],[26],[32],[6],[1],[3],[62],[62],[62],[62],[62],[62]` de la variable previa.\n"
      ]
    },
    {
      "cell_type": "code",
      "metadata": {
        "id": "Egqyz0WV6lNp",
        "colab": {
          "base_uri": "https://localhost:8080/"
        },
        "outputId": "ab9c1c8d-b8e9-4b3b-ed45-831e5e3a28b2"
      },
      "source": [
        "# Definimos la variable con el texto\n",
        "texto = \"Las cadenas en Python están rodeadas por comillas simples o comillas dobles\"\n",
        "\n",
        "# Ajustamos los índices (restamos 1 porque Python cuenta desde 0)\n",
        "posiciones = [30, 42, 14, 4, 25, 31, 5, 0, 2, 61, 61, 61, 61, 61, 61]\n",
        "\n",
        "# Extraemos los caracteres y los unimos en un solo string\n",
        "resultado = ''.join([texto[i] for i in posiciones])\n",
        "\n",
        "# Imprimimos el resultado\n",
        "print(resultado)"
      ],
      "execution_count": 1,
      "outputs": [
        {
          "output_type": "stream",
          "name": "stdout",
          "text": [
            "do cáeaLsoooooo\n"
          ]
        }
      ]
    },
    {
      "cell_type": "markdown",
      "metadata": {
        "id": "iZvg1V6d6e8m"
      },
      "source": [
        "8.   Slicing\n",
        "*   Realizar 5 tipos de slicing ascendentes diferentes sobre las variables creadas.\n",
        "*   Realizar 5 tipos de slicing descendente diferentes sobre las variables creadas.\n"
      ]
    },
    {
      "cell_type": "code",
      "metadata": {
        "id": "XgQyPvRZ6mmo",
        "colab": {
          "base_uri": "https://localhost:8080/"
        },
        "outputId": "49989053-a3f1-47ce-f046-1d1915019926"
      },
      "source": [
        "mi_lista = [0, 1, 2, 3, 4, 5, 6, 7, 8, 9]\n",
        "print(mi_lista[:5])   # [0, 1, 2, 3, 4]\n",
        "print(mi_lista[2:7])   # [2, 3, 4, 5, 6]\n",
        "print(mi_lista[3:])    # [3, 4, 5, 6, 7, 8, 9]\n",
        "print(mi_lista[::2])   # [0, 2, 4, 6, 8]"
      ],
      "execution_count": null,
      "outputs": [
        {
          "output_type": "stream",
          "name": "stdout",
          "text": [
            "[0, 1, 2, 3, 4]\n",
            "[2, 3, 4, 5, 6]\n",
            "[3, 4, 5, 6, 7, 8, 9]\n",
            "[0, 2, 4, 6, 8]\n"
          ]
        }
      ]
    },
    {
      "cell_type": "code",
      "source": [
        "print(mi_lista[::-1])  # [9, 8, 7, 6, 5, 4, 3, 2, 1, 0]\n",
        "print(mi_lista[:-4:-1])  # [9, 8, 7]\n",
        "print(mi_lista[7:2:-1])  # [7, 6, 5, 4, 3]\n",
        "print(mi_lista[5::-2])  # [5, 3, 1]\n",
        "print(mi_lista[::-3])  # [9, 6, 3, 0]"
      ],
      "metadata": {
        "colab": {
          "base_uri": "https://localhost:8080/"
        },
        "id": "GwiH_xkCclZx",
        "outputId": "5b953c12-06cb-441d-fcab-bcfeaa46d0d8"
      },
      "execution_count": null,
      "outputs": [
        {
          "output_type": "stream",
          "name": "stdout",
          "text": [
            "[9, 8, 7, 6, 5, 4, 3, 2, 1, 0]\n",
            "[9, 8, 7]\n",
            "[7, 6, 5, 4, 3]\n",
            "[5, 3, 1]\n",
            "[9, 6, 3, 0]\n"
          ]
        }
      ]
    },
    {
      "cell_type": "markdown",
      "metadata": {
        "id": "QPGfCFMocqux"
      },
      "source": [
        "9.   Ejercicio con operadores (10%)\n",
        "<p>\n",
        "Calcular el volumen de cada una de las figuras de la imagen usando formularios.\n",
        "\n",
        "![Imagen](https://www.centroestudioscervantinos.es/wp-content/uploads/2019/10/formulas-de-geometria-istock.jpg)\n",
        "\n",
        "</p>\n"
      ]
    },
    {
      "cell_type": "code",
      "metadata": {
        "id": "fPort8KaeByh"
      },
      "source": [
        "import math\n",
        "\n",
        "r = float (import(\"ingrese el radio de la esfera\"))\n",
        "esfera = 4/3 math.pi * r**3\n"
      ],
      "execution_count": null,
      "outputs": []
    },
    {
      "cell_type": "code",
      "metadata": {
        "id": "10G-0B7PH0zP",
        "colab": {
          "base_uri": "https://localhost:8080/"
        },
        "outputId": "25b1a7a1-7ff2-4cad-d4c6-75432d30fe0c"
      },
      "source": [
        "import math\n",
        "\n",
        "r = float(input(\"ingrese el radio de la esfera: \"))\n",
        "esfera = 4/3 * math.pi * r**3\n",
        "print(\"el volumen de la esfera es: \", esfera)"
      ],
      "execution_count": 4,
      "outputs": [
        {
          "output_type": "stream",
          "name": "stdout",
          "text": [
            "ingrese el radio de la esfera: 4.3\n",
            "el volumen de la esfera es:  333.0381428119515\n"
          ]
        }
      ]
    },
    {
      "cell_type": "code",
      "metadata": {
        "id": "PjJo9JkHH2_W",
        "colab": {
          "base_uri": "https://localhost:8080/"
        },
        "outputId": "65f0bc68-8d6c-4c49-aede-ec12c94e1fd7"
      },
      "source": [
        "\n",
        "import math\n",
        "\n",
        "def volumen_cilindro():\n",
        "    radio = float(input(\"Radio del cilindro: \"))\n",
        "    altura = float(input(\"Altura del cilindro: \"))\n",
        "    volumen = math.pi * (radio ** 2) * altura\n",
        "    print(f\"Volumen del cilindro: {volumen:.2f}\")\n",
        "\n",
        "volumen_cilindro()\n"
      ],
      "execution_count": null,
      "outputs": [
        {
          "name": "stdout",
          "output_type": "stream",
          "text": [
            "Radio del cilindro: 125.66\n"
          ]
        }
      ]
    },
    {
      "cell_type": "code",
      "metadata": {
        "id": "wRrtFQdNH5dn"
      },
      "source": [
        "\n",
        "base = float(input(\"Base del triángulo: \"))\n",
        "altura = float(input(\"Altura del triángulo: \"))\n",
        "area = 0.5 * base * altura\n",
        "print(f\"Área = {area:.2f}\")"
      ],
      "execution_count": null,
      "outputs": []
    },
    {
      "cell_type": "code",
      "metadata": {
        "id": "PHaa6aVxH9DI"
      },
      "source": [
        "\n",
        "import math\n",
        "\n",
        "def volumen_cono():\n",
        "    radio = float(input(\"Radio del cono: \"))\n",
        "    altura = float(input(\"Altura del cono: \"))\n",
        "    volumen = (1/3) * math.pi * (radio ** 2) * altura\n",
        "    print(f\"Volumen del cono: {volumen:.2f}\")\n",
        "\n",
        "volumen_cono()"
      ],
      "execution_count": null,
      "outputs": []
    },
    {
      "cell_type": "code",
      "metadata": {
        "id": "fAb9wsxEH-pI"
      },
      "source": [
        "#Solución piramide"
      ],
      "execution_count": null,
      "outputs": []
    },
    {
      "cell_type": "markdown",
      "metadata": {
        "id": "3xvUONIEd2Gm"
      },
      "source": [
        "10.   Ejercicio con operadores (10%)\n",
        "<p>\n",
        "Realizar un algoritmo que utilizando el teorema del Coseno solucione para un lado de su elección.\n",
        "\n",
        "*Nota:* Las [funciones trigonométricas en Python](https://docs.python.org/3/library/math.html#trigonometric-functions) reciben valores en radianes por lo tanto debe tener en cuenta este concepto. Se recomienda usar la [función de conversión angular](https://docs.python.org/3/library/math.html#angular-conversion) de la librería math y las [funciones trigonométricas](https://docs.python.org/3/library/math.html#trigonometric-functions)  de la misma librería.\n",
        "\n",
        "</p>\n",
        "\n",
        "![Imagen](https://www.matesfacil.com/BAC/trigonometria/teorema/coseno/TCOS1.png)\n"
      ]
    },
    {
      "cell_type": "code",
      "metadata": {
        "id": "AQklwudoeHvQ"
      },
      "source": [
        "#Solución"
      ],
      "execution_count": null,
      "outputs": []
    },
    {
      "cell_type": "markdown",
      "metadata": {
        "id": "rKItxFScd3j_"
      },
      "source": [
        "11.   Ejercicio con operadores  (20%)\n",
        "<p>\n",
        "Elabore un algoritmo mediante formularios que lea un valor realice las conversiones detalladas en la siguiente tabla:\n",
        "\n",
        "Unidades inicial | Unidades finales\n",
        "---|---\n",
        "<center>Pulgadas|<center>Centimetros\n",
        "<center>Milimetros|<center>Pulgadas\n",
        "<center>Yardas|<center>Centimetros\n",
        "<center>Millas|<center>Metros\n",
        "<center>Kilometros|<center>Pies\n",
        "<center>Legua|<center>Metros\n",
        "\n",
        "</p>\n",
        "\n",
        "![Imagen](https://i1.wp.com/www.ensambledeideas.com/wp-content/uploads/2020/10/longitud-inglesa-2.png?)\n"
      ]
    },
    {
      "cell_type": "code",
      "metadata": {
        "id": "WyRCUOsueKNo"
      },
      "source": [
        "#Solución\n",
        "#Pulgadas|Centimetros"
      ],
      "execution_count": null,
      "outputs": []
    },
    {
      "cell_type": "code",
      "metadata": {
        "id": "n7H3rLyoJk3Y"
      },
      "source": [
        "#Solución\n",
        "#Milimetros|Pulgadas"
      ],
      "execution_count": null,
      "outputs": []
    },
    {
      "cell_type": "code",
      "metadata": {
        "id": "kU9CL8INJmUP"
      },
      "source": [
        "#Solución\n",
        "#Yardas|Centimetros"
      ],
      "execution_count": null,
      "outputs": []
    },
    {
      "cell_type": "code",
      "metadata": {
        "id": "oipTdbbUJoHA"
      },
      "source": [
        "#Solución\n",
        "#Millas|Metros"
      ],
      "execution_count": null,
      "outputs": []
    },
    {
      "cell_type": "code",
      "metadata": {
        "id": "Nu2nHB-eJpVD"
      },
      "source": [
        "#Solución\n",
        "#Kilometros|Pies"
      ],
      "execution_count": null,
      "outputs": []
    },
    {
      "cell_type": "code",
      "metadata": {
        "id": "zguBF6hVJqjh"
      },
      "source": [
        "#Solución\n",
        "#Legua|Metros"
      ],
      "execution_count": null,
      "outputs": []
    }
  ]
}